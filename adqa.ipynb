{
 "cells": [
  {
   "cell_type": "code",
   "execution_count": null,
   "metadata": {},
   "outputs": [],
   "source": [
    "class adqa:\n",
    "    def read_file(path):\n",
    "        \"\"\"\n",
    "        This function read the dataset and  return pandas dataframe\n",
    "        \"\"\"\n",
    "        \n",
    "    \n",
    "    def accuracy():\n",
    "        \"\"\"\n",
    "        This check for accuracy in the dataset. For example data is correctly formated or not. Require manual \n",
    "        intervention in the data.\n",
    "        \"\"\"\n",
    "    \n",
    "    \n",
    "    def completeness():\n",
    "        \"\"\"\n",
    "        This function check for null values in the dataset by checking completeness\n",
    "        \"\"\"\n",
    "        \n",
    "    \n",
    "    def consistency():\n",
    "        \"\"\"\n",
    "        This function check for consistency in a dataset. For example check for consistent value\n",
    "        types in a feature\n",
    "        \"\"\"\n",
    "        \n",
    "    \n",
    "    def relevancy():\n",
    "        \"\"\"\n",
    "        This function helps to find relevancy in a dataset. For example, whether the data ovservation align with it's \n",
    "        feature name or not. Required manual intervention.\n",
    "        \"\"\"\n",
    "        \n",
    "    \n",
    "    def validity():\n",
    "        \"\"\"\n",
    "        Data containing allowable values => Validity\n",
    "        For example outlier detection\n",
    "        \"\"\"\n",
    "        \n",
    "        \n",
    "    def uniqueness():\n",
    "        \"\"\"\n",
    "        Records that are duplicated => Uniqueness\n",
    "        \"\"\"\n",
    "        \n",
    "        \n",
    "    def report():\n",
    "        \"\"\"\n",
    "        Generate a text file containing data quality issses found\n",
    "        \"\"\"\n"
   ]
  }
 ],
 "metadata": {
  "kernelspec": {
   "display_name": "Python 3",
   "language": "python",
   "name": "python3"
  },
  "language_info": {
   "codemirror_mode": {
    "name": "ipython",
    "version": 3
   },
   "file_extension": ".py",
   "mimetype": "text/x-python",
   "name": "python",
   "nbconvert_exporter": "python",
   "pygments_lexer": "ipython3",
   "version": "3.7.4"
  }
 },
 "nbformat": 4,
 "nbformat_minor": 2
}
